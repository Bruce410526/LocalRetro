{
 "cells": [
  {
   "cell_type": "code",
   "execution_count": 1,
   "metadata": {},
   "outputs": [],
   "source": [
    "# from SimpleChiral import *\n",
    "# from Extract_from_dataset import *\n",
    "# from Run_preprocessing import *\n",
    "\n",
    "import pandas as pd\n",
    "import re\n",
    "\n",
    "rxns = pd.read_csv('../data/USPTO_MIT/raw_test.csv' )['reactants>reagents>production']"
   ]
  },
  {
   "cell_type": "code",
   "execution_count": 3,
   "metadata": {},
   "outputs": [
    {
     "name": "stdout",
     "output_type": "stream",
     "text": [
      "{'products': '[c;+0:1]-[C;+0:4]=[C;+0:3]-[c;+0:2]', 'reactants': 'I-[c;+0:1].O-B(-O)-[c;+0:2].[C;+0:3]#[C;+0:4]', 'reaction_smarts': '[c;+0:1]-[C;+0:4]=[C;+0:3]-[c;+0:2]>>I-[c;+0:1].O-B(-O)-[c;+0:2].[C;+0:3]#[C;+0:4]', 'intra_only': False, 'dimer_only': False, 'reaction_id': 0, 'necessary_reagent': '', 'replacement_dict': {'21': '1', '32': '2', '1': '3', '2': '4'}, 'change_atoms': ['1', '2', '21', '32'], 'edit_sites': ([(25, 0), (4, 1)], [(32, 1), (21, 2)], [(2, 3), (1, 4)]), 'H_change': {3: 0, 4: 0, 1: 0, 2: 0}}\n"
     ]
    }
   ],
   "source": [
    "from local_template_extractor import extract_from_reaction\n",
    "from template_extractor import extract_from_reaction as ex3\n",
    "\n",
    "i = 441\n",
    "rxn = rxns[i]\n",
    "reaction = {'reactants': rxn.split('>>')[0], 'products': rxn.split('>>')[1], '_id': 0}\n",
    "# rxn, temp = ex3(reaction)\n",
    "print (extract_from_reaction(reaction))"
   ]
  },
  {
   "cell_type": "code",
   "execution_count": 77,
   "metadata": {},
   "outputs": [
    {
     "data": {
      "text/plain": [
       "'=O'"
      ]
     },
     "execution_count": 77,
     "metadata": {},
     "output_type": "execute_result"
    }
   ],
   "source": [
    "from collections import defaultdict\n",
    "\n",
    "def reverse_lg(lg):\n",
    "    symbol_string = ''\n",
    "    string_order = 0\n",
    "    New_Alpha = True\n",
    "    inverse = True\n",
    "    meet_alpha = False\n",
    "    temp = ''\n",
    "    elements = defaultdict(str)\n",
    "    reverse_lg = lg[::-1]\n",
    "    for i, char in enumerate(reverse_lg):    \n",
    "        if inverse and char.isalpha():\n",
    "            if New_Alpha: # last word is alpha  \n",
    "                string_order += 1 \n",
    "                symbol_string += str(string_order) + '*'\n",
    "                elements[str(string_order)] += char\n",
    "                New_Alpha = False  \n",
    "            else:\n",
    "                elements[str(string_order)] += char \n",
    "                New_Alpha = False  \n",
    "              \n",
    "        elif char == ')':\n",
    "            inverse = False\n",
    "            temp += char\n",
    "            New_Alpha = True\n",
    "            \n",
    "        elif char == '(':\n",
    "            if reverse_lg[i+1] == ')':\n",
    "                temp += char\n",
    "            else:\n",
    "                meet_alpha = True\n",
    "                temp += char\n",
    "  \n",
    "        elif inverse:\n",
    "            symbol_string += char\n",
    "            New_Alpha = True\n",
    "            \n",
    "        elif meet_alpha:\n",
    "            temp += char\n",
    "            symbol_string += temp[::-1]\n",
    "            temp = ''\n",
    "            meet_alpha = False\n",
    "            inverse = True\n",
    "\n",
    "        else:\n",
    "            temp += char \n",
    "            \n",
    "    for i in range(string_order):\n",
    "        e = str(i+1)\n",
    "        symbol_string = symbol_string.replace(e + '*', elements[e][::-1])\n",
    "        \n",
    "    return symbol_string\n",
    "            \n",
    "    \n",
    "reverse_lg(lg)"
   ]
  },
  {
   "cell_type": "code",
   "execution_count": 57,
   "metadata": {},
   "outputs": [
    {
     "data": {
      "text/plain": [
       "'-)O=(C-rB-)C-()C-(C-C'"
      ]
     },
     "execution_count": 57,
     "metadata": {},
     "output_type": "execute_result"
    }
   ],
   "source": [
    "def reverse_lg(lg):\n",
    "    reversed_lg = lg[::-1]\n",
    "    temp = ''\n",
    "    bonds = ''\n",
    "    for char in reversed_lg:\n",
    "        if char in ['(', ')']:\n",
    "            temp += char\n",
    "        else:\n",
    "            bonds += char\n",
    "            \n",
    "    return reversed_lg\n",
    "\n",
    "lg = 'C-C(-C)(-C)-Br-C(=O)-'\n",
    "reverse_lg(lg)"
   ]
  },
  {
   "cell_type": "code",
   "execution_count": null,
   "metadata": {},
   "outputs": [],
   "source": [
    "'-C(=O)-Br-C(-C)(-C)-C'"
   ]
  },
  {
   "cell_type": "code",
   "execution_count": 3,
   "metadata": {},
   "outputs": [
    {
     "name": "stdout",
     "output_type": "stream",
     "text": [
      "{'products': '[C;+0:1]-[C;+0:2]-[O;+0:3]', 'reactants': '[C;+0:1]=[C;+0:2].[O;+0:3]', 'reaction_smarts': '[C;+0:1]-[C;+0:2]-[O;+0:3]>>[C;+0:1]=[C;+0:2].[O;+0:3]', 'intra_only': False, 'dimer_only': False, 'reaction_id': 0, 'necessary_reagent': '', 'replacement_dict': {'8': '1', '9': '2', '28': '3'}, 'change_atoms': ['8', '9', '28'], 'edit_sites': ([(8, 9)], [(9, 28)], [(2, 3)]), 'H_change': {1: -1, 2: 0, 3: 1}}\n"
     ]
    }
   ],
   "source": [
    "from local_template_extractor import extract_from_reaction\n",
    "from template_extractor import extract_from_reaction as ex3\n",
    "\n",
    "i = 4744\n",
    "rxn = rxns[i]\n",
    "reaction = {'reactants': rxn.split('>>')[0], 'products': rxn.split('>>')[1], '_id': 0}\n",
    "# rxn, temp = ex3(reaction)\n",
    "print (extract_from_reaction(reaction))\n",
    "# print (ex3(reaction, True))\n",
    "# temp"
   ]
  },
  {
   "cell_type": "code",
   "execution_count": 6,
   "metadata": {},
   "outputs": [
    {
     "data": {
      "image/png": "[encoded data removed]",
      "text/plain": [
       "<rdkit.Chem.rdchem.Mol at 0x7f40c6e77440>"
      ]
     },
     "execution_count": 6,
     "metadata": {},
     "output_type": "execute_result"
    }
   ],
   "source": [
    "from rdkit import Chem\n",
    "\n",
    "Chem.MolFromSmiles(rxn.split('>>')[0])"
   ]
  },
  {
   "cell_type": "code",
   "execution_count": 7,
   "metadata": {},
   "outputs": [
    {
     "data": {
      "image/png": "[encoded data removed]",
      "text/plain": [
       "<rdkit.Chem.rdchem.Mol at 0x7f40c1674b20>"
      ]
     },
     "execution_count": 7,
     "metadata": {},
     "output_type": "execute_result"
    }
   ],
   "source": [
    "Chem.MolFromSmiles(rxn.split('>>')[1])"
   ]
  },
  {
   "cell_type": "code",
   "execution_count": 12,
   "metadata": {},
   "outputs": [
    {
     "data": {
      "text/plain": [
       "('[C;+0:1]-[C;+0:2]-[O;+0:3]>>[C;+0:1]=[C;+0:2].[O;+0:3]',\n",
       " {'1': '2', '2': '1', '7': '3'})"
      ]
     },
     "execution_count": 12,
     "metadata": {},
     "output_type": "execute_result"
    }
   ],
   "source": [
    "import copy\n",
    "\n",
    "temp_1 = '[C;+0:2]-[C;+0:1]-[O;+0:3]>>[C;+0:1]=[C;+0:2].[O;+0:3]' # 1,3\n",
    "temp_2 = '[C;+0:1]-[C;+0:2]-[O;+0:3]>>[C;+0:1]=[C;+0:2].[O;+0:3]' # 2,2\n",
    "\n",
    "def sort_template(template, replace_dict):\n",
    "    product = template.split('>>')[1]\n",
    "    reactant = template.split('>>')[0]\n",
    "    reorder = False\n",
    "    for p in product.split('.'):\n",
    "        bond_temp = copy.copy(p)\n",
    "        temp_atoms = re.findall(r\"\\[.*?\\d]\", p)\n",
    "        atom_props = set()\n",
    "        atom_num = []\n",
    "        for atom in temp_atoms:\n",
    "            atom_num.append(atom.split(':')[1].split(']')[0])\n",
    "            atom_props.add(atom.split(':')[0])\n",
    "            bond_temp = bond_temp.replace(atom, '')\n",
    "        if len(bond_temp) == len(temp_atoms)-1 and len(atom_props) == 1 and len(temp_atoms) == 2:\n",
    "            exhange_num = {}\n",
    "            reactant_ = reactant.replace(':%s' % atom_num[0], ':?%s' % atom_num[1])\n",
    "            reactant_ = reactant_.replace(':%s' % atom_num[1], ':?%s' % atom_num[0])\n",
    "            reactant_ = reactant_.replace('?', '')\n",
    "            exhange_num[str(atom_num[0])] = str(atom_num[1])\n",
    "            exhange_num[str(atom_num[1])] = str(atom_num[0])\n",
    "            reactant = sorted([reactant, reactant_])[0]\n",
    "            reorder = True\n",
    "            break\n",
    "    if reorder: \n",
    "        for atom_map in replace_dict:\n",
    "            if replace_dict[atom_map] in exhange_num.keys():\n",
    "                replace_dict[atom_map] = exhange_num[replace_dict[atom_map]]\n",
    "    return reactant + '>>' + product, replace_dict\n",
    "\n",
    "replace_dict = {'1': '1', '2': '2', '7': '3'}\n",
    "sort_template(temp_1, replace_dict)"
   ]
  },
  {
   "cell_type": "code",
   "execution_count": 5,
   "metadata": {},
   "outputs": [
    {
     "name": "stdout",
     "output_type": "stream",
     "text": [
      "('[c;+0:1]1:[n;+0:2]:[n;+0:3]:[n;+0:4]:[n;+0:5]:1>>[C;+0:1]#[N;+0:2].[N;-1:3]=[N;+1:4]=[N;-1:5]', '[c;+0:1]1:[n;+0:2]:[n;+0:3]:[n;+0:4]:[n;+0:5]:1>>[C;+0:1]#[N;+0:2].[N;-1:3]=[N;+1:4]=[N;-1:5]')\n",
      "('[c;+0:1]1:[n;+0:5]:[n;+0:4]:[n;+0:3]:[n;+0:2]:1>>[C;+0:1]#[N;+0:2].[N;-1:3]=[N;+1:4]=[N;-1:5]', '[c;+0:1]1:[n;+0:5]:[n;+0:4]:[n;+0:3]:[n;+0:2]:1>>[C;+0:1]#[N;+0:2].[N;-1:3]=[N;+1:4]=[N;-1:5]')\n"
     ]
    }
   ],
   "source": [
    "a = '[c;+0:1]1:[n;+0:2]:[n;+0:3]:[n;+0:4]:[n;+0:5]:1>>[C;+0:1]#[N;+0:2].[N;-1:3]=[N;+1:4]=[N;-1:5]'\n",
    "b = '[c;+0:1]1:[n;+0:5]:[n;+0:4]:[n;+0:3]:[n;+0:2]:1>>[C;+0:1]#[N;+0:2].[N;-1:3]=[N;+1:4]=[N;-1:5]'\n",
    "print (reduce_template(a))\n",
    "print (reduce_template(b))"
   ]
  },
  {
   "cell_type": "code",
   "execution_count": 35,
   "metadata": {},
   "outputs": [
    {
     "data": {
      "text/plain": [
       "'[N;+0:2]-[c;+0:1]([n;+0:3]:[n;+0:4])'"
      ]
     },
     "execution_count": 35,
     "metadata": {},
     "output_type": "execute_result"
    }
   ],
   "source": [
    "def sort_ring_map(temp_order): \n",
    "    all_order = []\n",
    "    temp_len = len(temp_order)\n",
    "    for i in range(temp_len):\n",
    "        reorder_idx = [i-temp_len+j for j in range(temp_len)]\n",
    "        reorder_order = [temp_order[j] for j in reorder_idx]\n",
    "        all_order.append('-'.join(reorder_order))\n",
    "    temp_order = temp_order[::-1]\n",
    "    for i in range(temp_len):\n",
    "        reorder_idx = [i-temp_len+j for j in range(temp_len)]\n",
    "        reorder_order = [temp_order[j] for j in reorder_idx]\n",
    "        all_order.append('-'.join(reorder_order))\n",
    "    return sorted(all_order)[0].split('-')\n",
    "\n",
    "def get_temp_order(smarts):\n",
    "    Is_Ring = False\n",
    "    temp_atoms = re.findall(r\"\\[.*?]\", smarts)\n",
    "    temp_order = []\n",
    "    bond_smarts = smarts\n",
    "    atom_dict = {}\n",
    "    for atom in temp_atoms:\n",
    "        num = atom.split(':')[-1].split(']')[0]\n",
    "        atom_dict[num] = atom\n",
    "        temp_order.append(num)\n",
    "        bond_smarts = bond_smarts.replace(atom, '')\n",
    "    if '1' in bond_smarts:\n",
    "        Is_Ring = True\n",
    "        bond_smarts = bond_smarts.replace('1', '')\n",
    "    if Is_Ring:\n",
    "        temp_order = sort_ring_map(temp_order)\n",
    "    else:\n",
    "        temp_order = sorted(['-'.join(temp_order), '-'.join(temp_order[::-1])])[0].split('-')\n",
    "    return temp_order, bond_smarts, atom_dict, Is_Ring\n",
    "\n",
    "def get_template_bond(temp_order, bond_dict):\n",
    "    bond_match = {}\n",
    "    for n, _ in enumerate(temp_order):\n",
    "        bond_match[(temp_order[n], temp_order[n-1])] = bond_dict[n-1]\n",
    "        bond_match[(temp_order[n-1], temp_order[n])] = bond_dict[n-1]\n",
    "    print (bond_match)\n",
    "    return bond_match   \n",
    "\n",
    "def reorder_ring_map(smarts):\n",
    "    if '(' in smarts: # hard to reorder\n",
    "        return smarts\n",
    "    temp_order, bond_dict, atom_dict, Is_Ring = get_temp_order(smarts)\n",
    "    bond_match = get_template_bond(temp_order, bond_dict)\n",
    "    recon_temp = []\n",
    "    for i, o in enumerate(temp_order):\n",
    "        atom_smarts = atom_dict[o]\n",
    "        if i+1 <= len(temp_order) - 1:\n",
    "            end = i+1\n",
    "        else:\n",
    "            end = 0\n",
    "        bond = (temp_order[i], temp_order[end])\n",
    "        bond_smarts = bond_match[bond]\n",
    "        \n",
    "        if i == 0 and Is_Ring:\n",
    "            recon_temp += [atom_smarts, '1', bond_smarts]\n",
    "        else:\n",
    "            recon_temp += [atom_smarts, bond_smarts]\n",
    "    if Is_Ring:\n",
    "        recon_temp.append('1')\n",
    "    else:\n",
    "        recon_temp = recon_temp[:-1]\n",
    "    return ''.join(recon_temp)\n",
    "\n",
    "s1 = '[c;+0:1]1:[n;+0:5]:[n;+0:4]:[n;+0:3]:[n;+0:2]:1'\n",
    "s2 = '[c;+0:1]1:[n;+0:2]:[n;+0:3]:[n;+0:4]:[n;+0:5]:1'\n",
    "s3 = '[c;+0:2]:[o;+0:3]:[c;+0:1]'\n",
    "s4 = '[N;+0:2]-[c;+0:1]([n;+0:3]:[n;+0:4])'\n",
    "reorder_ring_map(s4)"
   ]
  },
  {
   "cell_type": "code",
   "execution_count": 25,
   "metadata": {},
   "outputs": [
    {
     "data": {
      "text/plain": [
       "{'products': '[C;+0:1]-[C;+0:2]-[O;+0:3]',\n",
       " 'reactants': '[C;+0:1]=[C;+0:2].[O;+0:3]',\n",
       " 'reaction_smarts': '[C;+0:1]-[C;+0:2]-[O;+0:3]>>[C;+0:1]=[C;+0:2].[O;+0:3]',\n",
       " 'intra_only': False,\n",
       " 'dimer_only': False,\n",
       " 'reaction_id': 0,\n",
       " 'necessary_reagent': '',\n",
       " 'replacement_dict': {'8': '1', '9': '2', '28': '3'},\n",
       " 'change_atoms': ['8', '9', '28'],\n",
       " 'edit_sites': ([(8, 9)], [(9, 28)], [(2, 3)]),\n",
       " 'H_change': {1: -1, 2: 0, 3: 1}}"
      ]
     },
     "execution_count": 25,
     "metadata": {},
     "output_type": "execute_result"
    }
   ],
   "source": [
    "i = 4744 # 1273\n",
    "# rxn = 'F[c:13]1[n:14][cH:15][cH:16][cH:17][cH:18]1.[Br:1][c:2]1[cH:3][c:4]2[c:5]([nH:6][c:7]([NH2:9])[n:8]2)[cH:10][cH:11]1>>[Br:1][c:2]1[cH:3][c:4]2[c:5]([n:6][c:7]([NH2:9])[n:8]2-[c:13]2[n:14][cH:15][cH:16][cH:17][cH:18]2)[cH:10][cH:11]1'\n",
    "rxn, temp = get_label(rxns[i])\n",
    "local_template = temp['reaction_smarts']\n",
    "smi_template, sma_template = reduce_template(local_template)\n",
    "temp"
   ]
  },
  {
   "cell_type": "code",
   "execution_count": 4,
   "metadata": {},
   "outputs": [
    {
     "data": {
      "image/png": "[encoded data removed]",
      "text/plain": [
       "<rdkit.Chem.rdchem.Mol at 0x7fe1618c8c10>"
      ]
     },
     "execution_count": 4,
     "metadata": {},
     "output_type": "execute_result"
    }
   ],
   "source": [
    "p = '[Br:1][c:2]1[cH:3][c:4]2[c:5]([n:6][c:7]([NH2:9])[n:8]2-[c:13]2[n:14][cH:15][cH:16][cH:17][cH:18]2)[cH:10][cH:11]1'\n",
    "m = Chem.MolFromSmiles(p)\n",
    "# for atom in m.GetAtoms():\n",
    "#     atom.SetAtomMapNum(atom.GetIdx())\n",
    "m"
   ]
  },
  {
   "cell_type": "code",
   "execution_count": 7,
   "metadata": {},
   "outputs": [
    {
     "data": {
      "text/plain": [
       "[6, 8, 13, 7]"
      ]
     },
     "execution_count": 7,
     "metadata": {},
     "output_type": "execute_result"
    }
   ],
   "source": [
    "from rdkit.Chem import AllChem\n",
    "import re\n",
    "\n",
    "\n",
    "def connect_changed_atoms(mol, changed_atoms):\n",
    "    changed_atoms = [atom.GetIdx() for atom in mol.GetAtoms() if str(atom.GetAtomMapNum()) in changed_atoms]\n",
    "    while '.' in AllChem.MolFragmentToSmiles(mol, changed_atoms):\n",
    "        react_smiles = AllChem.MolFragmentToSmiles(mol, changed_atoms)\n",
    "        frag_nums = {}\n",
    "        for f, smi in enumerate(react_smiles.split('.')):\n",
    "            temp_atoms = re.findall(r\"\\[.*?]\", smi)\n",
    "            frag_nums[f] = [int(atom.split(':')[-1].split(']')[0]) for atom in temp_atoms]\n",
    "\n",
    "        for f in frag_nums:\n",
    "            atommaps = frag_nums[f]\n",
    "            atomidxs = [atom.GetIdx() for atom in mol.GetAtoms() if atom.GetAtomMapNum() in atommaps]\n",
    "            frag_nums[f] = atomidxs\n",
    "\n",
    "        shortest_len = 6\n",
    "        for f1 in frag_nums:\n",
    "            for f2 in frag_nums:\n",
    "                if f1 <= f2:\n",
    "                    continue\n",
    "                for a in frag_nums[f1]:\n",
    "                    for b in frag_nums[f2]:\n",
    "                        path = Chem.GetShortestPath(mol, a, b)\n",
    "                        if len(path) < shortest_len:\n",
    "                            shortest_len = len(path)\n",
    "                            connect_atoms = path       \n",
    "        changed_atoms += [idx for idx in connect_atoms if idx not in changed_atoms]\n",
    "    changed_atoms_map = [mol.GetAtomWithIdx(idx).GetAtomMapNum() for idx in changed_atoms]\n",
    "    \n",
    "    return changed_atoms_map\n",
    "    \n",
    "connect_changed_atoms(m, ['6', '8', '13'])"
   ]
  },
  {
   "cell_type": "code",
   "execution_count": 3,
   "metadata": {},
   "outputs": [
    {
     "data": {
      "text/plain": [
       "{'products': '[#7;a:2]:[c;H0;+0:1](:[c:3])-[n;H0;+0:8]1:[c:4]:[c:5]:[n;H0;+0:6]:[c:7]:1',\n",
       " 'reactants': 'F-[c;H0;+0:1](:[#7;a:2]):[c:3].[c:4]1:[c:5]:[nH;+0:6]:[c:7]:[n;H0;+0:8]:1',\n",
       " 'reaction_smarts': '[#7;a:2]:[c;H0;+0:1](:[c:3])-[n;H0;+0:8]1:[c:4]:[c:5]:[n;H0;+0:6]:[c:7]:1>>F-[c;H0;+0:1](:[#7;a:2]):[c:3].[c:4]1:[c:5]:[nH;+0:6]:[c:7]:[n;H0;+0:8]:1',\n",
       " 'intra_only': False,\n",
       " 'dimer_only': False,\n",
       " 'reaction_id': 0,\n",
       " 'necessary_reagent': '',\n",
       " 'replacement_dict': {'13': '1',\n",
       "  '14': '2',\n",
       "  '18': '3',\n",
       "  '4': '4',\n",
       "  '5': '5',\n",
       "  '6': '6',\n",
       "  '7': '7',\n",
       "  '8': '8'},\n",
       " 'change_atoms': ['6', '8', '13']}"
      ]
     },
     "execution_count": 3,
     "metadata": {},
     "output_type": "execute_result"
    }
   ],
   "source": [
    "from template_extractor import extract_from_reaction as ex2\n",
    "\n",
    "ex2(rxn)"
   ]
  },
  {
   "cell_type": "code",
   "execution_count": 12,
   "metadata": {},
   "outputs": [
    {
     "data": {
      "text/plain": [
       "'[SH:1][O-:2]'"
      ]
     },
     "execution_count": 12,
     "metadata": {},
     "output_type": "execute_result"
    }
   ],
   "source": [
    "mol = Chem.MolFromSmarts('[O-1:2]-[S+0:1]')\n",
    "Chem.MolToSmiles(mol)"
   ]
  },
  {
   "cell_type": "code",
   "execution_count": 95,
   "metadata": {},
   "outputs": [
    {
     "name": "stdout",
     "output_type": "stream",
     "text": [
      "[n:2]:[c:1]:[n:3]>>O-[C;+0:1]=O.[N;+0:2].[N;+0:3]\n",
      "{'1': '1', '15': '2', '4': '3'}\n",
      "{'1': '0', '2': '14', '3': '3'}\n",
      "[n:2]:[c:1]:[n:3]>>O-[C;+0:1]=O.[N;+0:2].[N;+0:3]\n",
      "1\n",
      "2\n",
      "1\n",
      "3\n"
     ]
    },
    {
     "data": {
      "text/plain": [
       "[(0, 14), (0, 3)]"
      ]
     },
     "execution_count": 95,
     "metadata": {},
     "output_type": "execute_result"
    }
   ],
   "source": [
    "from template_extractor import extract_from_reaction as ex2\n",
    "\n",
    "i =515\n",
    "\n",
    "special_templates = [\n",
    "    '[c:2]1:[c:1]:[n:4]:[n:5]:[c:3]:1>>O=[C;+0:1]-[C;+0:2]-[C;+0:3]=O.[N;+0:4]-[N;+0:5]'\n",
    "                   ]\n",
    "\n",
    "def matchwithtemp(template1, template2, replacement_dict):\n",
    "    matched_idx = {}\n",
    "    for char1, char2 in zip(template1, template2):\n",
    "        if char1 == char2:\n",
    "            pass\n",
    "        else:\n",
    "            matched_idx[char1] = char2\n",
    "            \n",
    "    new_replacement_dict = {}\n",
    "    for k in replacement_dict.keys():\n",
    "        if replacement_dict[k] not in matched_idx.keys():\n",
    "            new_replacement_dict[k] = replacement_dict[k]\n",
    "        else:\n",
    "            new_replacement_dict[k] = matched_idx[replacement_dict[k]]\n",
    "    return new_replacement_dict\n",
    "\n",
    "def match_num1(edit_idx, replace_dict):\n",
    "    new_edit_idx = ''\n",
    "    idx = ''\n",
    "    for s in str(edit_idx):\n",
    "        if s.isdigit():\n",
    "            idx += s\n",
    "        else:\n",
    "            if idx.isdigit():\n",
    "                print (idx)\n",
    "                new_edit_idx += replace_dict[idx]\n",
    "            new_edit_idx += s\n",
    "            idx = ''\n",
    "    return new_edit_idx\n",
    "\n",
    "\n",
    "rxn = rxns[i]\n",
    "\n",
    "rxn, temp = get_label(rxn)\n",
    "local_template = temp['reaction_smarts']\n",
    "smi_template, sma_template = reduce_template(local_template)\n",
    "print (sma_template)\n",
    "print (temp['replacement_dict'])\n",
    "if sma_template not in special_templates:\n",
    "    replace_dict = temp['replacement_dict']\n",
    "else:\n",
    "    replace_dict = matchwithtemp(sma_template, smiles2smarts[smi_template], temp['replacement_dict']) \n",
    "replace_dict = get_idx_map(rxn['products'], replace_dict)\n",
    "print (replace_dict)\n",
    "print (smiles2smarts[smi_template])\n",
    "edit_sites = eval(match_num1(smiles2edit[smi_template], replace_dict))\n",
    "edit_sites\n",
    "# smiles2smarts, smiles2edit = load_smi2sma_dict('../data/%s/smiles2smarts.csv' % 'USPTO_50K')\n",
    "# rxn = {'reactants': rxn.split('>>')[0], 'products': rxn.split('>>')[1], '_id': i}\n",
    "# result = ex2(rxn, local = True)\n",
    "\n",
    "# rxn, temp = get_label(rxn)"
   ]
  },
  {
   "cell_type": "code",
   "execution_count": 71,
   "metadata": {},
   "outputs": [
    {
     "data": {
      "text/plain": [
       "{'4': '5', '5': '4'}"
      ]
     },
     "execution_count": 71,
     "metadata": {},
     "output_type": "execute_result"
    }
   ],
   "source": [
    "\n",
    "\n",
    "template1 = '[c:2]1:[c:1]:[n:4]:[n:5]:[c:3]:1'\n",
    "template2 = '[c:2]1:[c:1]:[n:5]:[n:4]:[c:3]:1'\n",
    "matchwithtemp(template1, template2)"
   ]
  },
  {
   "cell_type": "code",
   "execution_count": 48,
   "metadata": {},
   "outputs": [
    {
     "data": {
      "image/png": "[encoded data removed]",
      "text/plain": [
       "<rdkit.Chem.rdchem.Mol at 0x7fecd81cbe40>"
      ]
     },
     "execution_count": 48,
     "metadata": {},
     "output_type": "execute_result"
    }
   ],
   "source": [
    "def remap(smiles):\n",
    "    mol = Chem.MolFromSmiles(smiles)\n",
    "#     for atom in mol.GetAtoms():\n",
    "#         atom.SetAtomMapNum(atom.GetIdx())\n",
    "    return mol\n",
    "\n",
    "# product = Chem.MolFromSmiles(rxn['products'])\n",
    "remap(rxn['reactants'])"
   ]
  },
  {
   "cell_type": "code",
   "execution_count": 98,
   "metadata": {},
   "outputs": [
    {
     "name": "stdout",
     "output_type": "stream",
     "text": [
      "{'products': '[C:2]-[c;H0;+0:1]1:[n;H0;+0:3]:[c:4]:[c:5]:[nH;+0:6]:1', 'reactants': 'O-[C;H0;+0:1](=O)-[C:2].[NH2;+0:3]-[c:4]:[c:5]-[NH2;+0:6]', 'reaction_smarts': '[C:2]-[c;H0;+0:1]1:[n;H0;+0:3]:[c:4]:[c:5]:[nH;+0:6]:1>>O-[C;H0;+0:1](=O)-[C:2].[NH2;+0:3]-[c:4]:[c:5]-[NH2;+0:6]', 'intra_only': False, 'dimer_only': False, 'reaction_id': 0, 'necessary_reagent': '', 'replacement_dict': {'1': '1', '2': '2', '15': '3', '14': '4', '5': '5', '4': '6'}, 'change_atoms': ['1', '4', '15']}\n"
     ]
    }
   ],
   "source": [
    "from template_extractor import extract_from_reaction as ex2\n",
    "\n",
    "# rxn = {'reactants': rxn.split('>>')[0], 'products': rxn.split('>>')[1], '_id': 0}\n",
    "result1 = ex2(rxn, local = False)\n",
    "print (result1)"
   ]
  },
  {
   "cell_type": "code",
   "execution_count": 6,
   "metadata": {},
   "outputs": [],
   "source": [
    "# from rdchiral.template_extractor import extract_from_reaction as ex1\n",
    "from template_extractor import extract_from_reaction as ex2\n",
    "\n",
    "for i, rxn in enumerate(rxns):\n",
    "    rxn = {'reactants': rxn.split('>>')[0], 'products': rxn.split('>>')[1], '_id': i}\n",
    "    result1 = ex1(rxn, local = True)\n",
    "    \n",
    "    result2 = ex2(rxn, local = True)\n",
    "    print (result1)\n",
    "    print (result2)\n",
    "    break"
   ]
  },
  {
   "cell_type": "code",
   "execution_count": null,
   "metadata": {},
   "outputs": [],
   "source": []
  },
  {
   "cell_type": "code",
   "execution_count": 30,
   "metadata": {},
   "outputs": [
    {
     "name": "stdout",
     "output_type": "stream",
     "text": [
      "[C:1]-[O:4]-[C:3]-[O:2]>>O-[C;+0:1].[O;+0:2].[C;+0:3]=[O;+0:4]\n",
      "[(1, 4), (3, 2)]\n",
      "[C:1]-[O:4]-[C:3]-[O:2]>>O-[C;+0:1].[O;+0:2].[C;+0:3]=[O;+0:4]\n",
      "[(1, 4), (3, 2)] [(0, 25), (4, 3)]\n"
     ]
    }
   ],
   "source": [
    "from Run_preprocessing import *\n",
    "\n",
    "rxn = 'O[CH2:1][CH2:2][CH2:3][OH:4].[O:5]=[CH:6][c:7]1[cH:8][cH:9][cH:10][c:11](-[n:12]2[n:13][c:14]([C:15]([F:16])([F:17])[F:18])[cH:19][c:20]2-[c:21]2[cH:22][cH:23][cH:24][o:25]2)[cH:26]1>>[CH2:1]1[CH2:2][CH2:3][O:4][CH:6]([c:7]2[cH:8][cH:9][cH:10][c:11](-[n:12]3[n:13][c:14]([C:15]([F:16])([F:17])[F:18])[cH:19][c:20]3-[c:21]3[cH:22][cH:23][cH:24][o:25]3)[cH:26]2)[O:5]1'\n",
    "smiles2smarts, smiles2edit = load_smi2sma_dict('../data/%s/smiles2smarts.csv' % 'USPTO_50K')\n",
    "rxn, temp = get_label(rxn)\n",
    "\n",
    "\n",
    "def match_num_(edit_idx, replace_dict):\n",
    "    new_edit_idx = ''\n",
    "    idx = ''\n",
    "    for s in str(edit_idx):\n",
    "        if s.isdigit():\n",
    "            idx += s\n",
    "        else:\n",
    "            if idx.isdigit():\n",
    "                new_edit_idx += replace_dict[idx]\n",
    "            new_edit_idx += s\n",
    "            idx = ''\n",
    "    return new_edit_idx\n",
    "\n",
    "local_template = temp['reaction_smarts']\n",
    "smi_template, sma_template = reduce_template(local_template)\n",
    "replace_dict = get_idx_map(rxn['products'], temp['replacement_dict'])\n",
    "\n",
    "print (sma_template)\n",
    "print (smiles2edit[smi_template])\n",
    "edit_sites = eval(match_num_(smiles2edit[smi_template], replace_dict))\n",
    "print (smiles2smarts[smi_template])\n",
    "print (smiles2edit[smi_template], edit_sites)"
   ]
  },
  {
   "cell_type": "code",
   "execution_count": 32,
   "metadata": {},
   "outputs": [],
   "source": [
    "# rxn = {'reactants': rxn.split('>>')[0], 'products': rxn.split('>>')[1], '_id': 0}\n",
    "temp = extract_from_reaction(rxn)"
   ]
  },
  {
   "cell_type": "code",
   "execution_count": 33,
   "metadata": {},
   "outputs": [
    {
     "data": {
      "text/plain": [
       "{'products': '[c:7]-[CH;+0:6]1-[O;H0;+0:4]-[C:3]-[C:2]-[CH2;+0:1]-[O;H0;+0:5]-1',\n",
       " 'reactants': 'O-[CH2;+0:1]-[C:2]-[C:3]-[OH;+0:4].[O;H0;+0:5]=[CH;+0:6]-[c:7]',\n",
       " 'reaction_smarts': '[c:7]-[CH;+0:6]1-[O;H0;+0:4]-[C:3]-[C:2]-[CH2;+0:1]-[O;H0;+0:5]-1>>O-[CH2;+0:1]-[C:2]-[C:3]-[OH;+0:4].[O;H0;+0:5]=[CH;+0:6]-[c:7]',\n",
       " 'intra_only': False,\n",
       " 'dimer_only': False,\n",
       " 'reaction_id': 0,\n",
       " 'necessary_reagent': '',\n",
       " 'replacement_dict': {'1': '1',\n",
       "  '2': '2',\n",
       "  '3': '3',\n",
       "  '4': '4',\n",
       "  '5': '5',\n",
       "  '6': '6',\n",
       "  '7': '7'},\n",
       " 'change_atoms': ['1', '4', '6', '5']}"
      ]
     },
     "execution_count": 33,
     "metadata": {},
     "output_type": "execute_result"
    }
   ],
   "source": [
    "temp"
   ]
  },
  {
   "cell_type": "code",
   "execution_count": null,
   "metadata": {},
   "outputs": [],
   "source": []
  },
  {
   "cell_type": "code",
   "execution_count": 30,
   "metadata": {},
   "outputs": [
    {
     "name": "stdout",
     "output_type": "stream",
     "text": [
      "0 0\n"
     ]
    },
    {
     "ename": "KeyboardInterrupt",
     "evalue": "",
     "output_type": "error",
     "traceback": [
      "\u001b[0;31m---------------------------------------------------------------------------\u001b[0m",
      "\u001b[0;31mKeyboardInterrupt\u001b[0m                         Traceback (most recent call last)",
      "\u001b[0;32m<ipython-input-30-0e3187e2d869>\u001b[0m in \u001b[0;36m<module>\u001b[0;34m\u001b[0m\n\u001b[1;32m      8\u001b[0m     \u001b[0mrxn\u001b[0m \u001b[0;34m=\u001b[0m \u001b[0;34m{\u001b[0m\u001b[0;34m'reactants'\u001b[0m\u001b[0;34m:\u001b[0m \u001b[0mrxn\u001b[0m\u001b[0;34m.\u001b[0m\u001b[0msplit\u001b[0m\u001b[0;34m(\u001b[0m\u001b[0;34m'>>'\u001b[0m\u001b[0;34m)\u001b[0m\u001b[0;34m[\u001b[0m\u001b[0;36m0\u001b[0m\u001b[0;34m]\u001b[0m\u001b[0;34m,\u001b[0m \u001b[0;34m'products'\u001b[0m\u001b[0;34m:\u001b[0m \u001b[0mrxn\u001b[0m\u001b[0;34m.\u001b[0m\u001b[0msplit\u001b[0m\u001b[0;34m(\u001b[0m\u001b[0;34m'>>'\u001b[0m\u001b[0;34m)\u001b[0m\u001b[0;34m[\u001b[0m\u001b[0;36m1\u001b[0m\u001b[0;34m]\u001b[0m\u001b[0;34m,\u001b[0m \u001b[0;34m'_id'\u001b[0m\u001b[0;34m:\u001b[0m \u001b[0mi\u001b[0m\u001b[0;34m}\u001b[0m\u001b[0;34m\u001b[0m\u001b[0;34m\u001b[0m\u001b[0m\n\u001b[1;32m      9\u001b[0m     \u001b[0mresult1\u001b[0m \u001b[0;34m=\u001b[0m \u001b[0mex1\u001b[0m\u001b[0;34m(\u001b[0m\u001b[0mrxn\u001b[0m\u001b[0;34m,\u001b[0m \u001b[0mlocal\u001b[0m \u001b[0;34m=\u001b[0m \u001b[0;32mTrue\u001b[0m\u001b[0;34m)\u001b[0m\u001b[0;34m\u001b[0m\u001b[0;34m\u001b[0m\u001b[0m\n\u001b[0;32m---> 10\u001b[0;31m     \u001b[0mresult2\u001b[0m \u001b[0;34m=\u001b[0m \u001b[0mex2\u001b[0m\u001b[0;34m(\u001b[0m\u001b[0mrxn\u001b[0m\u001b[0;34m,\u001b[0m \u001b[0mlocal\u001b[0m \u001b[0;34m=\u001b[0m \u001b[0;32mTrue\u001b[0m\u001b[0;34m)\u001b[0m\u001b[0;34m\u001b[0m\u001b[0;34m\u001b[0m\u001b[0m\n\u001b[0m\u001b[1;32m     11\u001b[0m \u001b[0;34m\u001b[0m\u001b[0m\n\u001b[1;32m     12\u001b[0m     \u001b[0;32mif\u001b[0m \u001b[0;34m'reaction_smarts'\u001b[0m \u001b[0;32mnot\u001b[0m \u001b[0;32min\u001b[0m \u001b[0mresult1\u001b[0m\u001b[0;34m.\u001b[0m\u001b[0mkeys\u001b[0m\u001b[0;34m(\u001b[0m\u001b[0;34m)\u001b[0m\u001b[0;34m:\u001b[0m\u001b[0;34m\u001b[0m\u001b[0;34m\u001b[0m\u001b[0m\n",
      "\u001b[0;32m~/PURetro/Preprocessing/template_extractor.py\u001b[0m in \u001b[0;36mextract_from_reaction\u001b[0;34m(reaction, local)\u001b[0m\n\u001b[1;32m    916\u001b[0m \u001b[0;34m\u001b[0m\u001b[0m\n\u001b[1;32m    917\u001b[0m     \u001b[0;31m# Calculate changed atoms\u001b[0m\u001b[0;34m\u001b[0m\u001b[0;34m\u001b[0m\u001b[0;34m\u001b[0m\u001b[0m\n\u001b[0;32m--> 918\u001b[0;31m     \u001b[0mchanged_atoms\u001b[0m\u001b[0;34m,\u001b[0m \u001b[0mchanged_atom_tags\u001b[0m\u001b[0;34m,\u001b[0m \u001b[0merr\u001b[0m \u001b[0;34m=\u001b[0m \u001b[0mget_changed_atoms\u001b[0m\u001b[0;34m(\u001b[0m\u001b[0mreactants\u001b[0m\u001b[0;34m,\u001b[0m \u001b[0mproducts\u001b[0m\u001b[0;34m,\u001b[0m \u001b[0mlocal\u001b[0m\u001b[0;34m)\u001b[0m\u001b[0;34m\u001b[0m\u001b[0;34m\u001b[0m\u001b[0m\n\u001b[0m\u001b[1;32m    919\u001b[0m \u001b[0;34m\u001b[0m\u001b[0m\n\u001b[1;32m    920\u001b[0m \u001b[0;31m#     print (changed_atoms, changed_atom_tags, err)\u001b[0m\u001b[0;34m\u001b[0m\u001b[0;34m\u001b[0m\u001b[0;34m\u001b[0m\u001b[0m\n",
      "\u001b[0;32m~/PURetro/Preprocessing/template_extractor.py\u001b[0m in \u001b[0;36mget_changed_atoms\u001b[0;34m(reactants, products, local)\u001b[0m\n\u001b[1;32m    180\u001b[0m \u001b[0;34m\u001b[0m\u001b[0m\n\u001b[1;32m    181\u001b[0m     \u001b[0;31m# Atoms that change CHIRALITY (just tetrahedral for now...)\u001b[0m\u001b[0;34m\u001b[0m\u001b[0;34m\u001b[0m\u001b[0;34m\u001b[0m\u001b[0m\n\u001b[0;32m--> 182\u001b[0;31m     \u001b[0mtetra_atoms\u001b[0m \u001b[0;34m=\u001b[0m \u001b[0mget_tetrahedral_atoms\u001b[0m\u001b[0;34m(\u001b[0m\u001b[0mreactants\u001b[0m\u001b[0;34m,\u001b[0m \u001b[0mproducts\u001b[0m\u001b[0;34m)\u001b[0m\u001b[0;34m\u001b[0m\u001b[0;34m\u001b[0m\u001b[0m\n\u001b[0m\u001b[1;32m    183\u001b[0m     \u001b[0;32mif\u001b[0m \u001b[0mVERBOSE\u001b[0m\u001b[0;34m:\u001b[0m\u001b[0;34m\u001b[0m\u001b[0;34m\u001b[0m\u001b[0m\n\u001b[1;32m    184\u001b[0m         \u001b[0mprint\u001b[0m\u001b[0;34m(\u001b[0m\u001b[0;34m'Found {} atom-mapped tetrahedral atoms that have chirality specified at least partially'\u001b[0m\u001b[0;34m.\u001b[0m\u001b[0mformat\u001b[0m\u001b[0;34m(\u001b[0m\u001b[0mlen\u001b[0m\u001b[0;34m(\u001b[0m\u001b[0mtetra_atoms\u001b[0m\u001b[0;34m)\u001b[0m\u001b[0;34m)\u001b[0m\u001b[0;34m)\u001b[0m\u001b[0;34m\u001b[0m\u001b[0;34m\u001b[0m\u001b[0m\n",
      "\u001b[0;32m~/PURetro/Preprocessing/template_extractor.py\u001b[0m in \u001b[0;36mget_tetrahedral_atoms\u001b[0;34m(reactants, products)\u001b[0m\n\u001b[1;32m     95\u001b[0m             \u001b[0;32mfor\u001b[0m \u001b[0mproduct\u001b[0m \u001b[0;32min\u001b[0m \u001b[0mproducts\u001b[0m\u001b[0;34m:\u001b[0m\u001b[0;34m\u001b[0m\u001b[0;34m\u001b[0m\u001b[0m\n\u001b[1;32m     96\u001b[0m                 \u001b[0;32mtry\u001b[0m\u001b[0;34m:\u001b[0m\u001b[0;34m\u001b[0m\u001b[0;34m\u001b[0m\u001b[0m\n\u001b[0;32m---> 97\u001b[0;31m                     \u001b[0;34m(\u001b[0m\u001b[0mip\u001b[0m\u001b[0;34m,\u001b[0m \u001b[0map\u001b[0m\u001b[0;34m)\u001b[0m \u001b[0;34m=\u001b[0m \u001b[0mfind_map_num\u001b[0m\u001b[0;34m(\u001b[0m\u001b[0mproduct\u001b[0m\u001b[0;34m,\u001b[0m \u001b[0matom_tag\u001b[0m\u001b[0;34m)\u001b[0m\u001b[0;34m\u001b[0m\u001b[0;34m\u001b[0m\u001b[0m\n\u001b[0m\u001b[1;32m     98\u001b[0m                     \u001b[0;32mif\u001b[0m \u001b[0mar\u001b[0m\u001b[0;34m.\u001b[0m\u001b[0mGetChiralTag\u001b[0m\u001b[0;34m(\u001b[0m\u001b[0;34m)\u001b[0m \u001b[0;34m!=\u001b[0m \u001b[0mChiralType\u001b[0m\u001b[0;34m.\u001b[0m\u001b[0mCHI_UNSPECIFIED\u001b[0m \u001b[0;32mor\u001b[0m\u001b[0;31m\\\u001b[0m\u001b[0;34m\u001b[0m\u001b[0;34m\u001b[0m\u001b[0m\n\u001b[1;32m     99\u001b[0m                             \u001b[0map\u001b[0m\u001b[0;34m.\u001b[0m\u001b[0mGetChiralTag\u001b[0m\u001b[0;34m(\u001b[0m\u001b[0;34m)\u001b[0m \u001b[0;34m!=\u001b[0m \u001b[0mChiralType\u001b[0m\u001b[0;34m.\u001b[0m\u001b[0mCHI_UNSPECIFIED\u001b[0m\u001b[0;34m:\u001b[0m\u001b[0;34m\u001b[0m\u001b[0;34m\u001b[0m\u001b[0m\n",
      "\u001b[0;32m~/PURetro/Preprocessing/template_extractor.py\u001b[0m in \u001b[0;36mfind_map_num\u001b[0;34m(mol, mapnum)\u001b[0m\n\u001b[1;32m     76\u001b[0m \u001b[0;34m\u001b[0m\u001b[0m\n\u001b[1;32m     77\u001b[0m \u001b[0;32mdef\u001b[0m \u001b[0mfind_map_num\u001b[0m\u001b[0;34m(\u001b[0m\u001b[0mmol\u001b[0m\u001b[0;34m,\u001b[0m \u001b[0mmapnum\u001b[0m\u001b[0;34m)\u001b[0m\u001b[0;34m:\u001b[0m\u001b[0;34m\u001b[0m\u001b[0;34m\u001b[0m\u001b[0m\n\u001b[0;32m---> 78\u001b[0;31m     return [(a.GetIdx(), a) for a in mol.GetAtoms() if a.HasProp('molAtomMapNumber') \n\u001b[0m\u001b[1;32m     79\u001b[0m          and a.GetProp('molAtomMapNumber') == str(mapnum)][0]\n\u001b[1;32m     80\u001b[0m \u001b[0;34m\u001b[0m\u001b[0m\n",
      "\u001b[0;32m~/PURetro/Preprocessing/template_extractor.py\u001b[0m in \u001b[0;36m<listcomp>\u001b[0;34m(.0)\u001b[0m\n\u001b[1;32m     76\u001b[0m \u001b[0;34m\u001b[0m\u001b[0m\n\u001b[1;32m     77\u001b[0m \u001b[0;32mdef\u001b[0m \u001b[0mfind_map_num\u001b[0m\u001b[0;34m(\u001b[0m\u001b[0mmol\u001b[0m\u001b[0;34m,\u001b[0m \u001b[0mmapnum\u001b[0m\u001b[0;34m)\u001b[0m\u001b[0;34m:\u001b[0m\u001b[0;34m\u001b[0m\u001b[0;34m\u001b[0m\u001b[0m\n\u001b[0;32m---> 78\u001b[0;31m     return [(a.GetIdx(), a) for a in mol.GetAtoms() if a.HasProp('molAtomMapNumber') \n\u001b[0m\u001b[1;32m     79\u001b[0m          and a.GetProp('molAtomMapNumber') == str(mapnum)][0]\n\u001b[1;32m     80\u001b[0m \u001b[0;34m\u001b[0m\u001b[0m\n",
      "\u001b[0;31mKeyboardInterrupt\u001b[0m: "
     ]
    }
   ],
   "source": [
    "from rdchiral.template_extractor import extract_from_reaction as ex1\n",
    "from template_extractor import extract_from_reaction as ex2\n",
    "from run_preprocessing import get_label as label1\n",
    "d = 0\n",
    "\n",
    "for i, rxn in enumerate(rxns):\n",
    "    edit_site1 = label1(rxn)[1]\n",
    "    rxn = {'reactants': rxn.split('>>')[0], 'products': rxn.split('>>')[1], '_id': i}\n",
    "    result1 = ex1(rxn, local = True)\n",
    "    result2 = ex2(rxn, local = True)\n",
    "\n",
    "    if 'reaction_smarts' not in result1.keys():\n",
    "        d+= 1\n",
    "        continue\n",
    "    template1 = result1['reaction_smarts']\n",
    "    template2 = result2['reaction_smarts']\n",
    "    smi_template1, sma_template1 = reduce_template(simplify_template(template1))\n",
    "    smi_template2, sma_template2 = reduce_template(template2)\n",
    "    edit_num = [int(num) for num in result1['change_atoms']]\n",
    "#     edit_site1 = label1(rxn['products'], rxn['reactants'], edit_num)\n",
    "    edit_site2 = result2['edit_sites'][0]\n",
    "    if edit_site1  != edit_site2 :\n",
    "        print (edit_site1, edit_site2)\n",
    "        print (sma_template1)\n",
    "        print (sma_template2)\n",
    "        print ()\n",
    "        d += 1\n",
    "    if i % 500 == 0:\n",
    "        print (i, d)"
   ]
  },
  {
   "cell_type": "code",
   "execution_count": 23,
   "metadata": {},
   "outputs": [
    {
     "name": "stdout",
     "output_type": "stream",
     "text": [
      "[(1,16)]\n"
     ]
    }
   ],
   "source": [
    "a = '[C;+0:3]-[C;+0:1]-[O;+0:2]'\n",
    "b = '[C;+0:1]-[C;+0:2]-[O;+0:3]'\n",
    "template_idx = '[(1,2)]'\n",
    "d = {'1': '13', '2': '1', '3': '16'}\n",
    "\n",
    "def match_num(a, b, edit_idx, d):\n",
    "    n_dict = {}\n",
    "    mola = Chem.MolFromSmarts(a)\n",
    "    molb = Chem.MolFromSmarts(b)\n",
    "    for atoma, atomb in zip(mola.GetAtoms(), molb.GetAtoms()):\n",
    "        n_dict[str(atoma.GetAtomMapNum())] = d[str(atomb.GetAtomMapNum())]\n",
    "    \n",
    "    new_edit_idx = ''\n",
    "    idx = ''\n",
    "    for s in str(edit_idx):\n",
    "        if s.isdigit():\n",
    "            idx += s\n",
    "        else:\n",
    "            if idx.isdigit():\n",
    "                new_edit_idx += n_dict[idx]\n",
    "            new_edit_idx += s\n",
    "            idx = ''\n",
    "    return new_edit_idx\n",
    "\n",
    "print (match_num(a, b, template_idx, d))"
   ]
  },
  {
   "cell_type": "code",
   "execution_count": 31,
   "metadata": {},
   "outputs": [],
   "source": [
    "def get_idx_map(product_smiles, replace_dict):\n",
    "    mol = Chem.MolFromSmiles(product_smiles)\n",
    "    idx_map = {}\n",
    "    for atom in mol.GetAtoms():\n",
    "        idx = str(atom.GetIdx())\n",
    "        atom_map = str(atom.GetAtomMapNum())\n",
    "        idx_map[atom_map] = idx\n",
    "    return {i:idx_map[k] for k, i in replace_dict.items()}\n",
    "\n",
    "\n",
    "replace_dict = get_idx_map(rxn['products'], result2['replacement_dict'])"
   ]
  },
  {
   "cell_type": "code",
   "execution_count": 32,
   "metadata": {},
   "outputs": [
    {
     "data": {
      "text/plain": [
       "{'1': '0'}"
      ]
     },
     "execution_count": 32,
     "metadata": {},
     "output_type": "execute_result"
    }
   ],
   "source": [
    "replace_dict"
   ]
  }
 ],
 "metadata": {
  "kernelspec": {
   "display_name": "rdenv",
   "language": "python",
   "name": "rdenv"
  },
  "language_info": {
   "codemirror_mode": {
    "name": "ipython",
    "version": 3
   },
   "file_extension": ".py",
   "mimetype": "text/x-python",
   "name": "python",
   "nbconvert_exporter": "python",
   "pygments_lexer": "ipython3",
   "version": "3.6.12"
  }
 },
 "nbformat": 4,
 "nbformat_minor": 4
}

{
 "cells": [
  {
   "cell_type": "code",
   "execution_count": 1,
   "metadata": {},
   "outputs": [],
   "source": [
    "from rdkit import Chem, RDLogger \n",
    "from rdkit.Chem.EnumerateStereoisomers import EnumerateStereoisomers\n",
    "\n",
    "RDLogger.DisableLog('rdApp.*')\n",
    "\n",
    "def demap(smi):\n",
    "    mol = Chem.MolFromSmiles(smi)\n",
    "    for atom in mol.GetAtoms():\n",
    "        atom.SetAtomMapNum(0)\n",
    "    smi = Chem.MolToSmiles(mol)\n",
    "    return Chem.MolToSmiles(Chem.MolFromSmiles(smi))\n",
    "\n",
    "def get_isomers(smi):\n",
    "    mol = Chem.MolFromSmiles(smi)\n",
    "    isomers = tuple(EnumerateStereoisomers(mol))\n",
    "    isomers_smi = [Chem.MolToSmiles(x, isomericSmiles=True) for x in isomers]\n",
    "    return isomers_smi\n",
    "    \n",
    "def isomer_match(preds, reac):\n",
    "    try:\n",
    "        reac_isomers = get_isomers(reac)\n",
    "        for k, pred in enumerate(preds):\n",
    "            pred_isomers = get_isomers(pred)\n",
    "            if(set(pred_isomers).issubset(set(reac_isomers))):\n",
    "                return k+1\n",
    "        return -1\n",
    "    except:\n",
    "        return -1"
   ]
  },
  {
   "cell_type": "code",
   "execution_count": 2,
   "metadata": {},
   "outputs": [],
   "source": [
    "import pandas as pd\n",
    "dataset = 'USPTO_50K'\n",
    "test_file = pd.read_csv('data/%s/raw_test.csv' % dataset)\n",
    "ground_truth = [demap(rxn.split('>>')[0]) for rxn in test_file['reactants>reagents>production']]"
   ]
  },
  {
   "cell_type": "code",
   "execution_count": 11,
   "metadata": {},
   "outputs": [
    {
     "name": "stdout",
     "output_type": "stream",
     "text": [
      "Calculating exact accuracy... 3000/3005"
     ]
    }
   ],
   "source": [
    "GRA = True\n",
    "use_class = False\n",
    "\n",
    "if GRA:\n",
    "    GRA = 'GRA'\n",
    "else:\n",
    "    GRA = 'noGRA'\n",
    "    \n",
    "if use_class:\n",
    "    use_class = '_class'\n",
    "else:\n",
    "    use_class = ''\n",
    "result_file = 'Results/%s_%s_outputs/decoded%s_prediction.txt' % (dataset, GRA, use_class)\n",
    "results = {}\n",
    "with open(result_file, 'r') as f:\n",
    "    for i, line in enumerate(f.readlines()):\n",
    "        results[i] = line.split('\\t')\n",
    "        \n",
    "correct_k = []\n",
    "for i in range(len(results)):\n",
    "    correct_k.append(isomer_match(results[i], ground_truth[i]))\n",
    "    if i % 100 == 0:\n",
    "        print ('\\rCalculating exact accuracy... %s/%s' % (i, len(results)), end='', flush=True)"
   ]
  },
  {
   "cell_type": "code",
   "execution_count": 10,
   "metadata": {},
   "outputs": [
    {
     "name": "stdout",
     "output_type": "stream",
     "text": [
      "1 0.5696821515892421\n",
      "3 0.7799511002444988\n",
      "5 0.8410757946210269\n",
      "10 0.8948655256723717\n",
      "50 0.9682151589242054\n"
     ]
    }
   ],
   "source": [
    "ks = [1, 3, 5, 10, 50]\n",
    "k_match = {k:0 for k in ks}\n",
    "\n",
    "for k in correct_k:\n",
    "    for kk in k_match:\n",
    "        if k <= kk and k != -1:\n",
    "            k_match[kk] += 1\n",
    "\n",
    "for kk in k_match:\n",
    "    print (kk, k_match[kk]/len(correct_k))"
   ]
  },
  {
   "cell_type": "code",
   "execution_count": 5,
   "metadata": {},
   "outputs": [
    {
     "name": "stdout",
     "output_type": "stream",
     "text": [
      "665\n"
     ]
    }
   ],
   "source": [
    "print (len(correct_k))"
   ]
  }
 ],
 "metadata": {
  "kernelspec": {
   "display_name": "rdenv",
   "language": "python",
   "name": "rdenv"
  },
  "language_info": {
   "codemirror_mode": {
    "name": "ipython",
    "version": 3
   },
   "file_extension": ".py",
   "mimetype": "text/x-python",
   "name": "python",
   "nbconvert_exporter": "python",
   "pygments_lexer": "ipython3",
   "version": "3.6.12"
  }
 },
 "nbformat": 4,
 "nbformat_minor": 4
}

{
 "cells": [
  {
   "cell_type": "code",
   "execution_count": 1,
   "metadata": {},
   "outputs": [],
   "source": [
    "from rdkit import Chem, RDLogger \n",
    "from rdkit.Chem.EnumerateStereoisomers import EnumerateStereoisomers\n",
    "\n",
    "RDLogger.DisableLog('rdApp.*')\n",
    "\n",
    "def demap(smi):\n",
    "    mol = Chem.MolFromSmiles(smi)\n",
    "    for atom in mol.GetAtoms():\n",
    "        atom.SetAtomMapNum(0)\n",
    "    smi = Chem.MolToSmiles(mol)\n",
    "    return Chem.MolToSmiles(Chem.MolFromSmiles(smi))\n",
    "    \n",
    "def get_isomers(smi):\n",
    "    mol = Chem.MolFromSmiles(smi)\n",
    "    isomers = tuple(EnumerateStereoisomers(mol))\n",
    "    isomers_smi = [Chem.MolToSmiles(x, isomericSmiles=True) for x in isomers]\n",
    "    return isomers_smi\n",
    "    \n",
    "def get_MaxFrag(smiles):\n",
    "    return max(smiles.split('.'), key=len)\n",
    "\n",
    "def isomer_match(preds, reac, MaxFrag = False):\n",
    "    try:\n",
    "        if MaxFrag:\n",
    "            reac = get_MaxFrag(reac)\n",
    "        reac_isomers = get_isomers(reac)\n",
    "        for k, pred in enumerate(preds):\n",
    "            if MaxFrag:\n",
    "                pred = get_MaxFrag(pred)\n",
    "            pred_isomers = get_isomers(pred)\n",
    "            if(set(pred_isomers).issubset(set(reac_isomers))):\n",
    "                return k+1\n",
    "        return -1\n",
    "    except:\n",
    "        return -1"
   ]
  },
  {
   "cell_type": "code",
   "execution_count": 2,
   "metadata": {},
   "outputs": [],
   "source": [
    "import pandas as pd\n",
    "dataset = 'USPTO_50K'\n",
    "test_file = pd.read_csv('data/%s/raw_test.csv' % dataset)"
   ]
  },
  {
   "cell_type": "code",
   "execution_count": 3,
   "metadata": {},
   "outputs": [],
   "source": [
    "rxn_ps = [rxn.split('>>')[1] for rxn in test_file['reactants>reagents>production']]"
   ]
  },
  {
   "cell_type": "code",
   "execution_count": 4,
   "metadata": {},
   "outputs": [],
   "source": [
    "ground_truth = [demap(rxn.split('>>')[0]) for rxn in test_file['reactants>reagents>production']]"
   ]
  },
  {
   "cell_type": "code",
   "execution_count": 5,
   "metadata": {},
   "outputs": [],
   "source": [
    "GRA = True\n",
    "class_given = False\n",
    "\n",
    "result_dir = 'outputs/decoded_prediction' \n",
    "if class_given:\n",
    "    result_dir += '_class'\n",
    "    \n",
    "if GRA:\n",
    "    result_file = '%s/%s.txt' % (result_dir, dataset)\n",
    "else:\n",
    "    result_file = '%s/%s_noGRA.txt' % (result_dir, dataset)\n",
    "\n",
    "\n",
    "results = {}\n",
    "with open(result_file, 'r') as f:\n",
    "    for i, line in enumerate(f.readlines()):\n",
    "        results[i] = line.split('\\n')[0].split('\\t')"
   ]
  },
  {
   "cell_type": "code",
   "execution_count": 6,
   "metadata": {},
   "outputs": [
    {
     "name": "stdout",
     "output_type": "stream",
     "text": [
      "Calculating accuracy... 5000/5007"
     ]
    }
   ],
   "source": [
    "Exact_matches = []\n",
    "MaxFrag_matches = [] # Description in Supporting Information\n",
    "\n",
    "Exact_matches_multi = []\n",
    "MaxFrag_matches_mumlti = [] \n",
    "for i in range(len(results)):\n",
    "    match_exact = isomer_match(results[i], ground_truth[i], False)\n",
    "    match_maxfrag = isomer_match(results[i], ground_truth[i], True)\n",
    "    if len(rxn_ps[i].split('.')) > 1:\n",
    "        Exact_matches_multi.append(match_exact)\n",
    "        MaxFrag_matches_mumlti.append(match_maxfrag)\n",
    "    Exact_matches.append(match_exact)\n",
    "    MaxFrag_matches.append(match_maxfrag)\n",
    "    if i % 100 == 0:\n",
    "        print ('\\rCalculating accuracy... %s/%s' % (i, len(results)), end='', flush=True)"
   ]
  },
  {
   "cell_type": "code",
   "execution_count": 7,
   "metadata": {},
   "outputs": [
    {
     "name": "stdout",
     "output_type": "stream",
     "text": [
      "5007\n",
      "Top-1 Exact accuracy: 0.534, MaxFrag accuracy: 0.578\n",
      "Top-3 Exact accuracy: 0.775, MaxFrag accuracy: 0.808\n",
      "Top-5 Exact accuracy: 0.859, MaxFrag accuracy: 0.883\n",
      "Top-10 Exact accuracy: 0.924, MaxFrag accuracy: 0.940\n",
      "Top-50 Exact accuracy: 0.977, MaxFrag accuracy: 0.983\n"
     ]
    }
   ],
   "source": [
    "ks = [1, 3, 5, 10, 50]\n",
    "exact_k = {k:0 for k in ks}\n",
    "MaxFrag_k = {k:0 for k in ks}\n",
    "\n",
    "print(len(Exact_matches))\n",
    "for i in range(len(Exact_matches)):\n",
    "    for k in ks:\n",
    "        if Exact_matches[i] <= k and Exact_matches[i] != -1:\n",
    "            exact_k[k] += 1\n",
    "        if MaxFrag_matches[i] <= k and MaxFrag_matches[i] != -1:\n",
    "            MaxFrag_k[k] += 1\n",
    "\n",
    "for k in ks:\n",
    "    print ('Top-%d Exact accuracy: %.3f, MaxFrag accuracy: %.3f' % (k, exact_k[k]/len(Exact_matches), MaxFrag_k[k]/len(MaxFrag_matches)))"
   ]
  }
 ],
 "metadata": {
  "kernelspec": {
   "display_name": "rdenv",
   "language": "python",
   "name": "rdenv"
  },
  "language_info": {
   "codemirror_mode": {
    "name": "ipython",
    "version": 3
   },
   "file_extension": ".py",
   "mimetype": "text/x-python",
   "name": "python",
   "nbconvert_exporter": "python",
   "pygments_lexer": "ipython3",
   "version": "3.6.12"
  }
 },
 "nbformat": 4,
 "nbformat_minor": 4
}

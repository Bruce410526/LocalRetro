{
 "cells": [
  {
   "cell_type": "code",
   "execution_count": 1,
   "metadata": {},
   "outputs": [],
   "source": [
    "from rdkit import Chem, RDLogger \n",
    "from rdkit.Chem.EnumerateStereoisomers import EnumerateStereoisomers\n",
    "\n",
    "RDLogger.DisableLog('rdApp.*')\n",
    "\n",
    "def demap(smi):\n",
    "    mol = Chem.MolFromSmiles(smi)\n",
    "    for atom in mol.GetAtoms():\n",
    "        atom.SetAtomMapNum(0)\n",
    "    smi = Chem.MolToSmiles(mol)\n",
    "    return Chem.MolToSmiles(Chem.MolFromSmiles(smi))\n",
    "\n",
    "def exact_match(preds, reac):\n",
    "    try:\n",
    "        for k, pred in enumerate(preds):\n",
    "            if pred == reac:\n",
    "                return k+1\n",
    "        return -1\n",
    "    except:\n",
    "        return -1\n",
    "    \n",
    "def get_isomers(smi):\n",
    "    mol = Chem.MolFromSmiles(smi)\n",
    "    isomers = tuple(EnumerateStereoisomers(mol))\n",
    "    isomers_smi = [Chem.MolToSmiles(x, isomericSmiles=True) for x in isomers]\n",
    "    return isomers_smi\n",
    "    \n",
    "def isomer_match(preds, reac):\n",
    "    try:\n",
    "        reac_isomers = get_isomers(reac)\n",
    "        for k, pred in enumerate(preds):\n",
    "            pred_isomers = get_isomers(pred)\n",
    "            if(set(pred_isomers).issubset(set(reac_isomers))):\n",
    "                return k+1\n",
    "        return -1\n",
    "    except:\n",
    "        return -1"
   ]
  },
  {
   "cell_type": "code",
   "execution_count": 2,
   "metadata": {},
   "outputs": [],
   "source": [
    "import pandas as pd\n",
    "dataset = 'USPTO_50K'\n",
    "test_file = pd.read_csv('data/%s/raw_test.csv' % dataset)\n",
    "ground_truth = [demap(rxn.split('>>')[0]) for rxn in test_file['reactants>reagents>production']]"
   ]
  },
  {
   "cell_type": "code",
   "execution_count": 3,
   "metadata": {},
   "outputs": [
    {
     "name": "stdout",
     "output_type": "stream",
     "text": [
      "Calculating exact accuracy... 5000/5007"
     ]
    }
   ],
   "source": [
    "GRA = True\n",
    "use_class = False\n",
    "\n",
    "if GRA:\n",
    "    GRA = 'GRA'\n",
    "else:\n",
    "    GRA = 'noGRA'\n",
    "    \n",
    "if use_class:\n",
    "    use_class = '_class'\n",
    "else:\n",
    "    use_class = ''\n",
    "result_file = 'results/%s_%s_outputs/decoded%s_prediction.txt' % (dataset, GRA, use_class)\n",
    "results = {}\n",
    "with open(result_file, 'r') as f:\n",
    "    for i, line in enumerate(f.readlines()):\n",
    "        results[i] = line.split('\\n')[0].split('\\t')\n",
    "        \n",
    "exact_matches = []\n",
    "isomer_matches = []\n",
    "for i in range(len(results)):\n",
    "    exact_matches.append(exact_match(results[i], ground_truth[i]))\n",
    "    isomer_matches.append(isomer_match(results[i], ground_truth[i]))\n",
    "    if i % 100 == 0:\n",
    "        print ('\\rCalculating exact accuracy... %s/%s' % (i, len(results)), end='', flush=True)"
   ]
  },
  {
   "cell_type": "code",
   "execution_count": 4,
   "metadata": {},
   "outputs": [
    {
     "name": "stdout",
     "output_type": "stream",
     "text": [
      "Top-1 accuracy: exact: 0.529, isomer: 0.534\n",
      "Top-3 accuracy: exact: 0.768, isomer: 0.775\n",
      "Top-5 accuracy: exact: 0.852, isomer: 0.859\n",
      "Top-10 accuracy: exact: 0.916, isomer: 0.924\n",
      "Top-50 accuracy: exact: 0.969, isomer: 0.977\n"
     ]
    }
   ],
   "source": [
    "ks = [1, 3, 5, 10, 50]\n",
    "exact_k = {k:0 for k in ks}\n",
    "isomer_k = {k:0 for k in ks}\n",
    "\n",
    "for i in range(len(results)):\n",
    "    for k in ks:\n",
    "        if exact_matches[i] <= k and exact_matches[i] != -1:\n",
    "            exact_k[k] += 1\n",
    "        if isomer_matches[i] <= k and isomer_matches[i] != -1:\n",
    "            isomer_k[k] += 1\n",
    "\n",
    "for k in ks:\n",
    "    print ('Top-%d accuracy: exact: %.3f, isomer: %.3f' % (k, exact_k[k]/len(results), isomer_k[k]/len(results)))"
   ]
  }
 ],
 "metadata": {
  "kernelspec": {
   "display_name": "rdenv",
   "language": "python",
   "name": "rdenv"
  },
  "language_info": {
   "codemirror_mode": {
    "name": "ipython",
    "version": 3
   },
   "file_extension": ".py",
   "mimetype": "text/x-python",
   "name": "python",
   "nbconvert_exporter": "python",
   "pygments_lexer": "ipython3",
   "version": "3.6.12"
  }
 },
 "nbformat": 4,
 "nbformat_minor": 4
}
